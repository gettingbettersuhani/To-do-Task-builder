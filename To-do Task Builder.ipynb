{
  "nbformat": 4,
  "nbformat_minor": 0,
  "metadata": {
    "colab": {
      "provenance": []
    },
    "kernelspec": {
      "name": "python3",
      "display_name": "Python 3"
    },
    "language_info": {
      "name": "python"
    }
  },
  "cells": [
    {
      "cell_type": "code",
      "source": [
        "class ToDoList:\n",
        "    def __init__(self):\n",
        "        self.tasks = []\n",
        "\n",
        "    def show_tasks(self):\n",
        "        if not self.tasks:\n",
        "            print(\"No tasks available.\")\n",
        "        else:\n",
        "            for i, task in enumerate(self.tasks, 1):\n",
        "                status = \"[✓]\" if task[\"completed\"] else \"[ ]\"\n",
        "                print(f\"{i}. {status} {task['task']}\")\n",
        "\n",
        "    def add_task(self):\n",
        "        while True:\n",
        "            self.tasks.append({\"task\": input(\"Enter task: \"), \"completed\": False})\n",
        "            more = input(\"Do you want to add another task? (yes/no): \").strip().lower()\n",
        "            if more != 'yes':\n",
        "                break\n",
        "\n",
        "    def delete_task(self):\n",
        "        while True:\n",
        "            self.show_tasks()\n",
        "            try:\n",
        "                self.tasks.pop(int(input(\"Task number to delete: \")) - 1)\n",
        "            except (ValueError, IndexError):\n",
        "                print(\"Invalid choice.\")\n",
        "            more = input(\"Do you want to delete another task? (yes/no): \").strip().lower()\n",
        "            if more != 'yes':\n",
        "                break\n",
        "\n",
        "    def mark_completed(self):\n",
        "        while True:\n",
        "            self.show_tasks()\n",
        "            try:\n",
        "                self.tasks[int(input(\"Task number to complete: \")) - 1][\"completed\"] = True\n",
        "            except (ValueError, IndexError):\n",
        "                print(\"Invalid choice.\")\n",
        "            more = input(\"Do you want to mark another task as completed? (yes/no): \").strip().lower()\n",
        "            if more != 'yes':\n",
        "                break\n",
        "\n",
        "    def menu(self):\n",
        "        while True:\n",
        "            choice = input(\"\\n1. Add 2. View 3. Delete 4. Complete 5. Exit\\nChoose: \")\n",
        "            if choice == '1': self.add_task()\n",
        "            elif choice == '2': self.show_tasks()\n",
        "            elif choice == '3': self.delete_task()\n",
        "            elif choice == '4': self.mark_completed()\n",
        "            elif choice == '5':\n",
        "                print(\"Goodbye! Have a productive day! 👋\")\n",
        "                break\n",
        "            else: print(\"Invalid choice.\")\n",
        "\n",
        "if __name__ == \"__main__\":\n",
        "    ToDoList().menu()\n"
      ],
      "metadata": {
        "colab": {
          "base_uri": "https://localhost:8080/",
          "height": 0
        },
        "id": "zRSBoZy_4MZf",
        "outputId": "d3a87542-b9d2-473c-bb16-5b49516e806c"
      },
      "execution_count": 1,
      "outputs": [
        {
          "output_type": "stream",
          "name": "stdout",
          "text": [
            "\n",
            "1. Add 2. View 3. Delete 4. Complete 5. Exit\n",
            "Choose: 1\n",
            "Enter task: Dance\n",
            "Do you want to add another task? (yes/no): yes\n",
            "Enter task: sing\n",
            "Do you want to add another task? (yes/no): no\n",
            "\n",
            "1. Add 2. View 3. Delete 4. Complete 5. Exit\n",
            "Choose: 4\n",
            "1. [ ] Dance\n",
            "2. [ ] sing\n",
            "Task number to complete: 2\n",
            "Do you want to mark another task as completed? (yes/no): no\n",
            "\n",
            "1. Add 2. View 3. Delete 4. Complete 5. Exit\n",
            "Choose: 5\n",
            "Goodbye! Have a productive day! 👋\n"
          ]
        }
      ]
    }
  ]
}